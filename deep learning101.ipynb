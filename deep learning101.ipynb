{
 "cells": [
  {
   "cell_type": "code",
   "execution_count": 1,
   "id": "6f37a50e",
   "metadata": {},
   "outputs": [],
   "source": [
    "import tensorflow as tf"
   ]
  },
  {
   "cell_type": "code",
   "execution_count": 2,
   "id": "a64504c1",
   "metadata": {},
   "outputs": [],
   "source": [
    "a=tf.constant(2.0,tf.float32)"
   ]
  },
  {
   "cell_type": "code",
   "execution_count": 3,
   "id": "85dc45a8",
   "metadata": {},
   "outputs": [
    {
     "data": {
      "text/plain": [
       "<tf.Tensor: shape=(), dtype=float32, numpy=2.0>"
      ]
     },
     "execution_count": 3,
     "metadata": {},
     "output_type": "execute_result"
    }
   ],
   "source": [
    "a"
   ]
  },
  {
   "cell_type": "code",
   "execution_count": 4,
   "id": "e3bb7820",
   "metadata": {},
   "outputs": [],
   "source": [
    "b=tf.constant(3.0)"
   ]
  },
  {
   "cell_type": "code",
   "execution_count": 5,
   "id": "65d64f75",
   "metadata": {},
   "outputs": [
    {
     "data": {
      "text/plain": [
       "<tf.Tensor: shape=(), dtype=float32, numpy=3.0>"
      ]
     },
     "execution_count": 5,
     "metadata": {},
     "output_type": "execute_result"
    }
   ],
   "source": [
    "b"
   ]
  },
  {
   "cell_type": "code",
   "execution_count": 6,
   "id": "4b610f14",
   "metadata": {},
   "outputs": [],
   "source": [
    "c=tf.constant(6)"
   ]
  },
  {
   "cell_type": "code",
   "execution_count": 7,
   "id": "922a2973",
   "metadata": {},
   "outputs": [
    {
     "data": {
      "text/plain": [
       "<tf.Tensor: shape=(), dtype=int32, numpy=6>"
      ]
     },
     "execution_count": 7,
     "metadata": {},
     "output_type": "execute_result"
    }
   ],
   "source": [
    "c\n"
   ]
  },
  {
   "cell_type": "code",
   "execution_count": 8,
   "id": "6263eac7",
   "metadata": {},
   "outputs": [],
   "source": [
    "W=tf.Variable([.3],dtype=tf.float32)\n",
    "b=tf.Variable([-.3],dtype=tf.float32)"
   ]
  },
  {
   "cell_type": "code",
   "execution_count": 9,
   "id": "e6907a84",
   "metadata": {},
   "outputs": [],
   "source": [
    "# A session is run to evaluate the node and this is called the Tensorflow runtime"
   ]
  },
  {
   "cell_type": "code",
   "execution_count": 10,
   "id": "037395b9",
   "metadata": {},
   "outputs": [],
   "source": [
    "a=tf.constant(5.0)\n",
    "b=tf.constant(3.0)"
   ]
  },
  {
   "cell_type": "code",
   "execution_count": 11,
   "id": "9fd67841",
   "metadata": {},
   "outputs": [],
   "source": [
    "c=a*b"
   ]
  },
  {
   "cell_type": "code",
   "execution_count": 12,
   "id": "805ec071",
   "metadata": {},
   "outputs": [],
   "source": [
    "# Launch the graph in a session.\n",
    "sess = tf.compat.v1.Session()"
   ]
  },
  {
   "cell_type": "code",
   "execution_count": 13,
   "id": "49a479a1",
   "metadata": {},
   "outputs": [
    {
     "name": "stdout",
     "output_type": "stream",
     "text": [
      "tf.Tensor(15.0, shape=(), dtype=float32)\n"
     ]
    }
   ],
   "source": [
    "print(c)"
   ]
  }
 ],
 "metadata": {
  "kernelspec": {
   "display_name": "Python 3 (ipykernel)",
   "language": "python",
   "name": "python3"
  },
  "language_info": {
   "codemirror_mode": {
    "name": "ipython",
    "version": 3
   },
   "file_extension": ".py",
   "mimetype": "text/x-python",
   "name": "python",
   "nbconvert_exporter": "python",
   "pygments_lexer": "ipython3",
   "version": "3.9.13"
  }
 },
 "nbformat": 4,
 "nbformat_minor": 5
}
